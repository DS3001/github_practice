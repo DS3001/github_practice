{
 "cells": [
  {
   "cell_type": "code",
   "execution_count": 1,
   "id": "e68bfd1f-1df8-4aa2-810d-fb48999fb69f",
   "metadata": {},
   "outputs": [
    {
     "name": "stdout",
     "output_type": "stream",
     "text": [
      "[main 7bd5a1a] Updated work file\n",
      " 1 file changed, 9 insertions(+)\n"
     ]
    }
   ],
   "source": [
    "! git commit -am \"Updated work file\""
   ]
  },
  {
   "cell_type": "code",
   "execution_count": 2,
   "id": "abd0a24b-8beb-46e9-bf2c-a479b267415b",
   "metadata": {},
   "outputs": [
    {
     "name": "stdout",
     "output_type": "stream",
     "text": [
      "commit 7bd5a1acd03c58e377f45b5f1346c335c0318c8f\n",
      "Author: DS3001 <ds3001uva@gmail.com>\n",
      "Date:   Thu Nov 9 00:42:13 2023 -0500\n",
      "\n",
      "    Updated work file\n",
      "\n",
      "commit 3e0b3d269f1410854da983e12e4c50662ad48fbb\n",
      "Author: DS3001 <142811469+DS3001@users.noreply.github.com>\n",
      "Date:   Thu Nov 9 00:35:57 2023 -0500\n",
      "\n",
      "    Create repo\n"
     ]
    }
   ],
   "source": [
    "! git log"
   ]
  },
  {
   "cell_type": "code",
   "execution_count": 4,
   "id": "b1942d0d-f2ef-457a-9fef-3689cd0c0283",
   "metadata": {},
   "outputs": [],
   "source": [
    "! git add git_commands.ipynb"
   ]
  },
  {
   "cell_type": "code",
   "execution_count": 5,
   "id": "80f8bf5f-9e3a-4e16-ae0e-fdf5d087b1b7",
   "metadata": {},
   "outputs": [
    {
     "name": "stdout",
     "output_type": "stream",
     "text": [
      "git_commands.ipynb\n",
      "github_tutorial.pdf\n",
      "github_tutorial_slides.pdf\n",
      "workfile.ipynb\n"
     ]
    }
   ],
   "source": [
    "! git ls-files"
   ]
  },
  {
   "cell_type": "code",
   "execution_count": null,
   "id": "4ed1c7da-893d-4619-b9f2-f9affad84176",
   "metadata": {},
   "outputs": [],
   "source": [
    "! git commit -am \"Add"
   ]
  }
 ],
 "metadata": {
  "kernelspec": {
   "display_name": "Python 3 (ipykernel)",
   "language": "python",
   "name": "python3"
  },
  "language_info": {
   "codemirror_mode": {
    "name": "ipython",
    "version": 3
   },
   "file_extension": ".py",
   "mimetype": "text/x-python",
   "name": "python",
   "nbconvert_exporter": "python",
   "pygments_lexer": "ipython3",
   "version": "3.10.4"
  }
 },
 "nbformat": 4,
 "nbformat_minor": 5
}
